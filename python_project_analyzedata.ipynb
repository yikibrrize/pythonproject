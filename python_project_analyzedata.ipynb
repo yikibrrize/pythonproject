{
 "cells": [
  {
   "cell_type": "markdown",
   "id": "111c5b0f",
   "metadata": {},
   "source": [
    "2.数据分析"
   ]
  },
  {
   "cell_type": "code",
   "execution_count": 1,
   "id": "faefa826",
   "metadata": {},
   "outputs": [
    {
     "name": "stdout",
     "output_type": "stream",
     "text": [
      "基本统计量：\n",
      "         Person ID          Age  Sleep Duration (hours)  \\\n",
      "count  10000.00000  10000.00000            10000.000000   \n",
      "mean    5000.50000     40.37430                6.205500   \n",
      "std     2886.89568     14.03999                0.749484   \n",
      "min        1.00000     18.00000                4.000000   \n",
      "25%     2500.75000     30.00000                6.000000   \n",
      "50%     5000.50000     40.00000                6.000000   \n",
      "75%     7500.25000     50.00000                6.000000   \n",
      "max    10000.00000     90.00000               10.000000   \n",
      "\n",
      "       Quality of Sleep (scale: 1-10)  Physical Activity Level (minutes/day)  \\\n",
      "count                    10000.000000                            10000.00000   \n",
      "mean                         6.184800                               40.23050   \n",
      "std                          1.618985                               20.63526   \n",
      "min                          1.000000                               10.00000   \n",
      "25%                          5.000000                               28.00000   \n",
      "50%                          6.000000                               36.00000   \n",
      "75%                          7.000000                               46.00000   \n",
      "max                         10.000000                              119.00000   \n",
      "\n",
      "       Stress Level (scale: 1-10)  Heart Rate (bpm)   Daily Steps  \\\n",
      "count                10000.000000      10000.000000  10000.000000   \n",
      "mean                     5.468600         72.972400   8367.594400   \n",
      "std                      2.847213          9.488711   2398.393147   \n",
      "min                      1.000000         50.000000   3000.000000   \n",
      "25%                      3.000000         66.000000   6587.750000   \n",
      "50%                      5.000000         71.000000   8288.000000   \n",
      "75%                      8.000000         78.000000   9861.250000   \n",
      "max                     10.000000        100.000000  14999.000000   \n",
      "\n",
      "        Systolic BP  Diastolic BP  \n",
      "count  10000.000000   10000.00000  \n",
      "mean     121.371600      75.07300  \n",
      "std       10.504854       7.76655  \n",
      "min      100.000000      60.00000  \n",
      "25%      113.000000      70.00000  \n",
      "50%      120.000000      75.00000  \n",
      "75%      130.000000      80.00000  \n",
      "max      140.000000      90.00000  \n",
      "\n",
      "精神压力水平与睡眠质量的相关性： -0.6524430439278408\n",
      "睡眠时长与睡眠质量的相关性： 0.29797178259114976\n",
      "年龄与睡眠质量的相关性： -0.15498641763635004\n",
      "每日步数与睡眠质量的相关性： 0.05337817029702662\n",
      "心率与睡眠质量的相关性： 0.024491356059082453\n",
      "每日运动时长与睡眠质量的相关性： 0.014905139410295778\n",
      "血压收缩压与睡眠质量的相关性： 0.006846511576498783\n",
      "血压舒张压与睡眠质量的相关性： 0.0061331136496149\n"
     ]
    },
    {
     "name": "stderr",
     "output_type": "stream",
     "text": [
      "C:\\Users\\86135\\AppData\\Local\\Temp\\ipykernel_23084\\2954732735.py:9: FutureWarning: The default value of numeric_only in DataFrame.corr is deprecated. In a future version, it will default to False. Select only valid columns or specify the value of numeric_only to silence this warning.\n",
      "  correlation_matrix = data.corr()\n"
     ]
    }
   ],
   "source": [
    "import pandas as pd\n",
    "data = pd.read_csv('cleaned_sleep_health_data.csv')\n",
    "# 计算基本统计量\n",
    "descriptive_stats = data.describe()\n",
    "print(\"基本统计量：\")\n",
    "print(descriptive_stats)\n",
    "\n",
    "# 计算相关系数\n",
    "correlation_matrix = data.corr()\n",
    "\n",
    "# 特定变量之间的相关性\n",
    "print(\"\\n精神压力水平与睡眠质量的相关性：\", correlation_matrix.loc['Stress Level (scale: 1-10)', 'Quality of Sleep (scale: 1-10)'])\n",
    "print(\"睡眠时长与睡眠质量的相关性：\", correlation_matrix.loc['Sleep Duration (hours)', 'Quality of Sleep (scale: 1-10)'])\n",
    "print(\"年龄与睡眠质量的相关性：\", correlation_matrix.loc['Age', 'Quality of Sleep (scale: 1-10)'])\n",
    "print(\"每日步数与睡眠质量的相关性：\", correlation_matrix.loc['Daily Steps', 'Quality of Sleep (scale: 1-10)'])\n",
    "print(\"心率与睡眠质量的相关性：\", correlation_matrix.loc['Heart Rate (bpm)', 'Quality of Sleep (scale: 1-10)'])\n",
    "print(\"每日运动时长与睡眠质量的相关性：\", correlation_matrix.loc['Physical Activity Level (minutes/day)', 'Quality of Sleep (scale: 1-10)'])\n",
    "print(\"血压收缩压与睡眠质量的相关性：\", correlation_matrix.loc['Systolic BP', 'Quality of Sleep (scale: 1-10)'])\n",
    "print(\"血压舒张压与睡眠质量的相关性：\", correlation_matrix.loc['Diastolic BP', 'Quality of Sleep (scale: 1-10)'])\n"
   ]
  },
  {
   "cell_type": "code",
   "execution_count": 2,
   "id": "ff2202d7",
   "metadata": {},
   "outputs": [
    {
     "name": "stdout",
     "output_type": "stream",
     "text": [
      "Index(['Person ID', 'Gender', 'Age', 'Occupation', 'Sleep Duration (hours)',\n",
      "       'Physical Activity Level (minutes/day)', 'Stress Level (scale: 1-10)',\n",
      "       'BMI Category', 'Heart Rate (bpm)', 'Daily Steps', 'Systolic BP',\n",
      "       'Diastolic BP'],\n",
      "      dtype='object')\n"
     ]
    }
   ],
   "source": [
    "import pandas as pd\n",
    "from sklearn.model_selection import train_test_split\n",
    "from sklearn.preprocessing import StandardScaler, LabelEncoder\n",
    "from sklearn.impute import SimpleImputer\n",
    "from econml.dml import DML\n",
    "from sklearn.ensemble import RandomForestRegressor, RandomForestClassifier\n",
    "from sklearn.linear_model import LinearRegression\n",
    "from sklearn.metrics import confusion_matrix, precision_score, recall_score, f1_score, classification_report\n",
    "from sklearn.tree import DecisionTreeClassifier\n",
    "\n",
    "# 加载数据\n",
    "data = pd.read_csv('cleaned_sleep_health_data.csv')\n",
    "\n",
    "# 数据预处理\n",
    "# 将分类变量转换为数值变量\n",
    "label_encoders = {}\n",
    "for column in data.columns:\n",
    "    if data[column].dtype == 'object':\n",
    "        le = LabelEncoder()\n",
    "        data[column] = le.fit_transform(data[column])\n",
    "        label_encoders[column] = le\n",
    "\n",
    "# 填充缺失值\n",
    "imputer = SimpleImputer(strategy='mean')\n",
    "data_imputed = pd.DataFrame(imputer.fit_transform(data), columns=data.columns)\n",
    "\n",
    "# 定义因变量和自变量\n",
    "X = data_imputed.drop(columns=['Quality of Sleep (scale: 1-10)', 'Sleep Disorder'])\n",
    "y = data_imputed['Quality of Sleep (scale: 1-10)']\n",
    "treatment = data_imputed['Sleep Disorder']  # 假设以 Sleep Disorder 作为处理变量\n",
    "\n",
    "# 划分训练集和测试集\n",
    "X_train, X_test, y_train, y_test, treatment_train, treatment_test = train_test_split(\n",
    "    X, y, treatment, test_size=0.2, random_state=42\n",
    ")\n",
    "\n",
    "# 标准化数据\n",
    "scaler = StandardScaler()\n",
    "X_train_scaled = scaler.fit_transform(X_train)\n",
    "X_test_scaled = scaler.transform(X_test)\n",
    "print(X.columns)"
   ]
  },
  {
   "cell_type": "code",
   "execution_count": 3,
   "id": "9d8d51ae",
   "metadata": {},
   "outputs": [
    {
     "name": "stderr",
     "output_type": "stream",
     "text": [
      "The final model has a nonzero intercept for at least one outcome; it will be subtracted, but consider fitting a model without an intercept if possible.\n"
     ]
    },
    {
     "name": "stdout",
     "output_type": "stream",
     "text": [
      "因果效应估计： [ 1.01834068 -1.07235932 -0.84485932 ... -0.48835932 -1.95025932\n",
      " -0.55455932]\n"
     ]
    }
   ],
   "source": [
    "from econml.dml import DML\n",
    "from sklearn.ensemble import RandomForestRegressor, RandomForestClassifier\n",
    "\n",
    "# 定义机器学习模型\n",
    "model_y = RandomForestRegressor(n_estimators=100, random_state=42)\n",
    "model_t = RandomForestClassifier(n_estimators=100, random_state=42)\n",
    "model_final = RandomForestRegressor(n_estimators=100, random_state=42)\n",
    "\n",
    "# 构建DML模型\n",
    "dml = DML(\n",
    "    \n",
    "    model_y=model_y,\n",
    "    model_t=model_t,\n",
    "    model_final=model_final,\n",
    "    discrete_treatment=True,\n",
    "    random_state=42\n",
    ")\n",
    "\n",
    "# 拟合DML模型\n",
    "dml.fit(y_train, treatment_train, X=X_train_scaled)\n",
    "\n",
    "# 估计因果效应\n",
    "causal_effect = dml.effect(X_test_scaled)\n",
    "print(\"因果效应估计：\", causal_effect)"
   ]
  },
  {
   "cell_type": "code",
   "execution_count": 4,
   "id": "56160928",
   "metadata": {},
   "outputs": [
    {
     "name": "stdout",
     "output_type": "stream",
     "text": [
      "                                  OLS Regression Results                                  \n",
      "==========================================================================================\n",
      "Dep. Variable:     Quality of Sleep (scale: 1-10)   R-squared:                       0.458\n",
      "Model:                                        OLS   Adj. R-squared:                  0.457\n",
      "Method:                             Least Squares   F-statistic:                     561.8\n",
      "Date:                            Wed, 11 Jun 2025   Prob (F-statistic):               0.00\n",
      "Time:                                    22:23:26   Log-Likelihood:                -12751.\n",
      "No. Observations:                            8000   AIC:                         2.553e+04\n",
      "Df Residuals:                                7987   BIC:                         2.562e+04\n",
      "Df Model:                                      12                                         \n",
      "Covariance Type:                        nonrobust                                         \n",
      "==============================================================================\n",
      "                 coef    std err          t      P>|t|      [0.025      0.975]\n",
      "------------------------------------------------------------------------------\n",
      "const          6.1910      0.013    464.510      0.000       6.165       6.217\n",
      "x1            -0.0113      0.013     -0.847      0.397      -0.037       0.015\n",
      "x2             0.0067      0.013      0.501      0.616      -0.019       0.033\n",
      "x3            -0.2032      0.014    -14.233      0.000      -0.231      -0.175\n",
      "x4             0.0429      0.016      2.651      0.008       0.011       0.075\n",
      "x5             0.1322      0.014      9.316      0.000       0.104       0.160\n",
      "x6            -0.0209      0.018     -1.139      0.255      -0.057       0.015\n",
      "x7            -1.0163      0.014    -72.089      0.000      -1.044      -0.989\n",
      "x8            -0.0230      0.013     -1.719      0.086      -0.049       0.003\n",
      "x9             0.0230      0.017      1.343      0.179      -0.011       0.057\n",
      "x10            0.0755      0.021      3.611      0.000       0.034       0.116\n",
      "x11            0.0114      0.022      0.522      0.602      -0.031       0.054\n",
      "x12           -0.0191      0.022     -0.875      0.382      -0.062       0.024\n",
      "==============================================================================\n",
      "Omnibus:                     3200.600   Durbin-Watson:                   2.004\n",
      "Prob(Omnibus):                  0.000   Jarque-Bera (JB):            26774.588\n",
      "Skew:                          -1.696   Prob(JB):                         0.00\n",
      "Kurtosis:                      11.296   Cond. No.                         3.22\n",
      "==============================================================================\n",
      "\n",
      "Notes:\n",
      "[1] Standard Errors assume that the covariance matrix of the errors is correctly specified.\n",
      "回归系数： [-0.01129238  0.00668389 -0.20324596  0.04292816  0.13217071 -0.02091965\n",
      " -1.01630002 -0.02299211  0.02303134  0.07545349  0.01141881 -0.01911638]\n",
      "F统计量： [3.55939158e-02 2.39538979e-01 1.86473980e+02 2.00039231e+00\n",
      " 7.88785974e+02 6.16304798e-01 5.99946358e+03 1.36947851e-01\n",
      " 6.69122776e+00 1.82866559e+01 2.02365129e+00 2.30602614e+00]\n",
      "P值： [8.50361348e-001 6.24552709e-001 5.51878201e-042 1.57297427e-001\n",
      " 1.31697608e-165 4.32447023e-001 0.00000000e+000 7.11344113e-001\n",
      " 9.70633713e-003 1.92242648e-005 1.54905362e-001 1.28912673e-001]\n"
     ]
    }
   ],
   "source": [
    "import statsmodels.api as sm\n",
    "from sklearn.linear_model import LinearRegression\n",
    "from sklearn.feature_selection import f_regression  # 修改了导入路径\n",
    "\n",
    "# 使用 statsmodels 进行回归分析\n",
    "X_train_sm = sm.add_constant(X_train_scaled)  # 添加常数项\n",
    "model_sm = sm.OLS(y_train, X_train_sm).fit()\n",
    "print(model_sm.summary())\n",
    "\n",
    "# 使用 scikit-learn 进行回归分析\n",
    "reg_model = LinearRegression()\n",
    "reg_model.fit(X_train_scaled, y_train)\n",
    "\n",
    "# 回归系数\n",
    "print(\"回归系数：\", reg_model.coef_)\n",
    "\n",
    "# F检验\n",
    "f_statistic, p_value = f_regression(X_train_scaled, y_train)\n",
    "print(\"F统计量：\", f_statistic)\n",
    "print(\"P值：\", p_value)"
   ]
  },
  {
   "cell_type": "code",
   "execution_count": null,
   "id": "d0b5553d",
   "metadata": {},
   "outputs": [],
   "source": []
  }
 ],
 "metadata": {
  "kernelspec": {
   "display_name": "Python 3 (ipykernel)",
   "language": "python",
   "name": "python3"
  },
  "language_info": {
   "codemirror_mode": {
    "name": "ipython",
    "version": 3
   },
   "file_extension": ".py",
   "mimetype": "text/x-python",
   "name": "python",
   "nbconvert_exporter": "python",
   "pygments_lexer": "ipython3",
   "version": "3.11.4"
  }
 },
 "nbformat": 4,
 "nbformat_minor": 5
}
